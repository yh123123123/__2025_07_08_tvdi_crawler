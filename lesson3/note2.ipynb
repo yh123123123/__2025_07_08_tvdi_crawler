{
 "cells": [
  {
   "cell_type": "markdown",
   "id": "02603280",
   "metadata": {},
   "source": [
    "\n",
    "python list 有哪些常用實體方法?"
   ]
  },
  {
   "cell_type": "markdown",
   "id": "e9c5dd32",
   "metadata": {},
   "source": [
    "在 Python 中，list（列表）是一个内建的可变序列类型，提供了多种实用的 实例方法（instance methods），用于操作列表本身（注意：这些方法大多是“就地修改”，不返回新的列表）。\n",
    "\n",
    "以下是 Python list 的常用实例方法："
   ]
  },
  {
   "cell_type": "markdown",
   "id": "b8398a7f",
   "metadata": {},
   "source": [
    "🔄 增加與擴展"
   ]
  },
  {
   "cell_type": "code",
   "execution_count": null,
   "id": "aeb56a93",
   "metadata": {},
   "outputs": [],
   "source": [
    "| 方法                 | 說明                           |\n",
    "| ------------------ | ---------------------------- |\n",
    "| `append(x)`        | 將元素 `x` 加到列表尾部               |\n",
    "| `extend(iterable)` | 將可迭代物件中的所有元素加到列表尾部（類似連接）     |\n",
    "| `insert(i, x)`     | 在索引 `i` 處插入元素 `x`（原本的元素向右移動） |\n"
   ]
  },
  {
   "cell_type": "markdown",
   "id": "ab8622a5",
   "metadata": {},
   "source": [
    "❌ 刪除與移除"
   ]
  },
  {
   "cell_type": "markdown",
   "id": "39d8245a",
   "metadata": {},
   "source": [
    "| 方法          | 說明                      |\n",
    "| ----------- | ----------------------- |\n",
    "| `remove(x)` | 移除第一個值為 `x` 的元素，若沒有會報錯  |\n",
    "| `pop([i])`  | 移除並返回索引 `i` 的元素，預設是最後一個 |\n",
    "| `clear()`   | 移除所有元素，清空列表             |\n"
   ]
  },
  {
   "cell_type": "markdown",
   "id": "d23338f7",
   "metadata": {},
   "source": [
    "🔍 查詢與統計"
   ]
  },
  {
   "cell_type": "markdown",
   "id": "6c65b683",
   "metadata": {},
   "source": [
    "| 方法                         | 說明                       |\n",
    "| -------------------------- | ------------------------ |\n",
    "| `index(x[, start[, end]])` | 返回元素 `x` 的第一個索引（可指定搜尋範圍） |\n",
    "| `count(x)`                 | 返回元素 `x` 在列表中出現的次數       |\n"
   ]
  },
  {
   "cell_type": "markdown",
   "id": "ea5ee0f0",
   "metadata": {},
   "source": [
    "🧮 排序與反轉"
   ]
  },
  {
   "cell_type": "markdown",
   "id": "00ab452c",
   "metadata": {},
   "source": [
    "| 方法                              | 說明                              |\n",
    "| ------------------------------- | ------------------------------- |\n",
    "| `sort(key=None, reverse=False)` | 就地排序列表（可用 `key` 和 `reverse` 參數） |\n",
    "| `reverse()`                     | 反轉列表順序（就地反轉）                    |\n"
   ]
  },
  {
   "cell_type": "markdown",
   "id": "d537b86b",
   "metadata": {},
   "source": [
    "🧬 複製"
   ]
  },
  {
   "cell_type": "markdown",
   "id": "8a6439cc",
   "metadata": {},
   "source": [
    "| 方法       | 說明                     |\n",
    "| -------- | ---------------------- |\n",
    "| `copy()` | 返回列表的淺拷貝（shallow copy） |\n"
   ]
  }
 ],
 "metadata": {
  "kernelspec": {
   "display_name": "venv1",
   "language": "python",
   "name": "python3"
  },
  "language_info": {
   "name": "python",
   "version": "3.11.13"
  }
 },
 "nbformat": 4,
 "nbformat_minor": 5
}
