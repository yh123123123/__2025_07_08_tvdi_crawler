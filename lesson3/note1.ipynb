{
 "cells": [
  {
   "cell_type": "markdown",
   "id": "8b75e7ca",
   "metadata": {},
   "source": [
    "https://chatgpt.com/\n",
    "python 常見資料結構範例"
   ]
  },
  {
   "cell_type": "markdown",
   "id": "8b81af1e",
   "metadata": {},
   "source": [
    "以下是 Python 中幾種常見資料結構的簡單範例，包含基本操作，適合用來快速了解用途與語法："
   ]
  },
  {
   "cell_type": "markdown",
   "id": "cdbfecd1",
   "metadata": {},
   "source": [
    "🔹 1. List（串列）\n",
    "有序、可變、允許重複元素"
   ]
  },
  {
   "cell_type": "code",
   "execution_count": null,
   "id": "43df9e75",
   "metadata": {},
   "outputs": [],
   "source": [
    "fruits = [\"apple\", \"banana\", \"cherry\"]\n",
    "fruits.append(\"orange\")       # 新增元素\n",
    "fruits.remove(\"banana\")       # 移除元素\n",
    "print(fruits[0])              # 取出第一個元素\n",
    "print(len(fruits))            # 長度"
   ]
  },
  {
   "cell_type": "markdown",
   "id": "083f6491",
   "metadata": {},
   "source": [
    "🔹 4. Dictionary（字典）\n",
    "鍵值對儲存、無序（Python 3.7+ 是插入有序）"
   ]
  },
  {
   "cell_type": "code",
   "execution_count": 1,
   "id": "921e27c5",
   "metadata": {},
   "outputs": [
    {
     "name": "stdout",
     "output_type": "stream",
     "text": [
      "Alice\n"
     ]
    }
   ],
   "source": [
    "person = {\"name\": \"Alice\", \"age\": 30}\n",
    "print(person[\"name\"])         # 取得 value\n",
    "person[\"age\"] = 31            # 修改值\n",
    "person[\"city\"] = \"Taipei\"     # 新增鍵值對\n",
    "del person[\"name\"]            # 刪除鍵"
   ]
  },
  {
   "cell_type": "markdown",
   "id": "c281e576",
   "metadata": {},
   "source": [
    "🔹 2. Tuple（元組）\n",
    "有序、不可變、允許重複元素"
   ]
  },
  {
   "cell_type": "code",
   "execution_count": 2,
   "id": "08f94c0c",
   "metadata": {},
   "outputs": [
    {
     "name": "stdout",
     "output_type": "stream",
     "text": [
      "1920\n"
     ]
    }
   ],
   "source": [
    "dimensions = (1920, 1080)\n",
    "print(dimensions[0])          # 取出元素\n",
    "# dimensions[0] = 1280        # 錯誤：tuple 是不可變的"
   ]
  },
  {
   "cell_type": "markdown",
   "id": "47a8571b",
   "metadata": {},
   "source": [
    "🔹 3. Set（集合）\n",
    "無序、不重複元素"
   ]
  },
  {
   "cell_type": "code",
   "execution_count": 3,
   "id": "b6db02ad",
   "metadata": {},
   "outputs": [
    {
     "name": "stdout",
     "output_type": "stream",
     "text": [
      "{1, 3, 4}\n"
     ]
    }
   ],
   "source": [
    "unique_numbers = {1, 2, 3, 2, 1}\n",
    "unique_numbers.add(4)\n",
    "unique_numbers.discard(2)\n",
    "print(unique_numbers)         # {1, 3, 4}"
   ]
  },
  {
   "cell_type": "markdown",
   "id": "51e510f2",
   "metadata": {},
   "source": [
    "🔹 5. Deque（雙端佇列）\n",
    "來自 collections 模組，效率比 list 更好，支援雙端操作"
   ]
  },
  {
   "cell_type": "code",
   "execution_count": 4,
   "id": "99c068b2",
   "metadata": {},
   "outputs": [
    {
     "name": "stdout",
     "output_type": "stream",
     "text": [
      "deque(['a', 'b', 'c'])\n"
     ]
    }
   ],
   "source": [
    "from collections import deque\n",
    "\n",
    "dq = deque([\"a\", \"b\", \"c\"])\n",
    "dq.append(\"d\")                # 右邊加入\n",
    "dq.appendleft(\"z\")            # 左邊加入\n",
    "dq.pop()                      # 從右邊移除\n",
    "dq.popleft()                  # 從左邊移除\n",
    "print(dq)\n"
   ]
  },
  {
   "cell_type": "markdown",
   "id": "7dab322f",
   "metadata": {},
   "source": [
    "🔹 6. Stack / Queue 範例（使用 List 實作）\n",
    "Stack（堆疊） - LIFO"
   ]
  },
  {
   "cell_type": "code",
   "execution_count": 5,
   "id": "b56d966c",
   "metadata": {},
   "outputs": [
    {
     "data": {
      "text/plain": [
       "2"
      ]
     },
     "execution_count": 5,
     "metadata": {},
     "output_type": "execute_result"
    }
   ],
   "source": [
    "stack = []\n",
    "stack.append(1)\n",
    "stack.append(2)\n",
    "stack.pop()       # 回傳 2\n"
   ]
  }
 ],
 "metadata": {
  "kernelspec": {
   "display_name": "venv1",
   "language": "python",
   "name": "python3"
  },
  "language_info": {
   "codemirror_mode": {
    "name": "ipython",
    "version": 3
   },
   "file_extension": ".py",
   "mimetype": "text/x-python",
   "name": "python",
   "nbconvert_exporter": "python",
   "pygments_lexer": "ipython3",
   "version": "3.11.13"
  }
 },
 "nbformat": 4,
 "nbformat_minor": 5
}
