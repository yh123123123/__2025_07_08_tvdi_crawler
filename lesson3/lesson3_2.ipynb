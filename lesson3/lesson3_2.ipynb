{
 "cells": [
  {
   "cell_type": "code",
   "execution_count": 2,
   "id": "34d6cd11",
   "metadata": {},
   "outputs": [
    {
     "data": {
      "text/plain": [
       "11"
      ]
     },
     "execution_count": 2,
     "metadata": {},
     "output_type": "execute_result"
    }
   ],
   "source": [
    "def add_number(value1,value2):\n",
    "    return value1 + value2\n",
    "\n",
    "result = add_number(5,6)\n",
    "result"
   ]
  },
  {
   "cell_type": "code",
   "execution_count": 12,
   "id": "9f8b36f1",
   "metadata": {},
   "outputs": [],
   "source": [
    "def merge_and_sort_lists(list1:list[int], list2:list[int]) -> list[int]:\n",
    "    merged = list1 + list2\n",
    "    merged.sort()\n",
    "    return merged"
   ]
  },
  {
   "cell_type": "code",
   "execution_count": 13,
   "id": "9da77ae4",
   "metadata": {},
   "outputs": [
    {
     "name": "stdout",
     "output_type": "stream",
     "text": [
      "合併並排序後的列表: [26, 38, 46, 50, 53, 56, 63, 75]\n"
     ]
    }
   ],
   "source": [
    "import random\n",
    "\n",
    "# 產生一個包含 10 個亂數整數的 list，每個整數介於 1 到 100 之間\n",
    "random_list1 = [random.randint(1, 100) for _ in range(3)]\n",
    "random_list2 = [random.randint(1, 100) for _ in range(5)]\n",
    "\n",
    "merge_and_sort_lists=merge_and_sort_lists(random_list1,random_list2)\n",
    "print(\"合併並排序後的列表:\",merge_and_sort_lists)\n"
   ]
  },
  {
   "cell_type": "markdown",
   "id": "b7bac7ef",
   "metadata": {},
   "source": [
    "# 此腳本定義了一個加法函數，合併兩個整數列表並排序。\n",
    "# 它也會產生兩個隨機整數列表，並將它們合併為一個排序後的列表。\n",
    "# 加法的結果儲存在 'result' 變數中。"
   ]
  }
 ],
 "metadata": {
  "kernelspec": {
   "display_name": "venv1",
   "language": "python",
   "name": "python3"
  },
  "language_info": {
   "codemirror_mode": {
    "name": "ipython",
    "version": 3
   },
   "file_extension": ".py",
   "mimetype": "text/x-python",
   "name": "python",
   "nbconvert_exporter": "python",
   "pygments_lexer": "ipython3",
   "version": "3.11.13"
  }
 },
 "nbformat": 4,
 "nbformat_minor": 5
}
