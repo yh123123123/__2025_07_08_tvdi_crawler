{
 "cells": [
  {
   "cell_type": "markdown",
   "id": "904a3283",
   "metadata": {},
   "source": [
    "有沒有內建的功能,可以產生list,有固定數量的元素,元素值為整數,並且是亂數"
   ]
  },
  {
   "cell_type": "markdown",
   "id": "bfd1a88d",
   "metadata": {},
   "source": [
    "有的，你可以用 Python 的標準函式庫 random 搭配 range() 和 random.randint() 來達成這個功能。不需要額外安裝套件。\n",
    "\n",
    "如果你要 產生一個固定數量的整數亂數清單（例如 10 個元素，每個是 1 到 100 的整數），可以這樣寫："
   ]
  },
  {
   "cell_type": "code",
   "execution_count": 1,
   "id": "d24385c1",
   "metadata": {},
   "outputs": [
    {
     "name": "stdout",
     "output_type": "stream",
     "text": [
      "[81, 94, 66, 50, 32, 100, 16, 54, 15, 17]\n"
     ]
    }
   ],
   "source": [
    "import random\n",
    "\n",
    "# 產生 10 個介於 1 到 100 的隨機整數\n",
    "random_list = [random.randint(1, 100) for _ in range(10)]\n",
    "\n",
    "print(random_list)\n"
   ]
  },
  {
   "cell_type": "markdown",
   "id": "1dc5e8cf",
   "metadata": {},
   "source": [
    "參數解釋：\n",
    "\n",
    "random.randint(1, 100)：產生包含 1 和 100 的隨機整數\n",
    "\n",
    "for _ in range(10)：重複執行 10 次，得到 10 個元素"
   ]
  },
  {
   "cell_type": "markdown",
   "id": "3ba8721a",
   "metadata": {},
   "source": [
    "如果你想要不重複的隨機整數，也可以用 random.sample()："
   ]
  },
  {
   "cell_type": "code",
   "execution_count": 2,
   "id": "f2d1b24f",
   "metadata": {},
   "outputs": [],
   "source": [
    "random_list = random.sample(range(1, 101), 10)  # 從 1~100 中取出 10 個不重複的整數\n"
   ]
  }
 ],
 "metadata": {
  "kernelspec": {
   "display_name": "venv1",
   "language": "python",
   "name": "python3"
  },
  "language_info": {
   "codemirror_mode": {
    "name": "ipython",
    "version": 3
   },
   "file_extension": ".py",
   "mimetype": "text/x-python",
   "name": "python",
   "nbconvert_exporter": "python",
   "pygments_lexer": "ipython3",
   "version": "3.11.13"
  }
 },
 "nbformat": 4,
 "nbformat_minor": 5
}
