{
 "cells": [
  {
   "cell_type": "markdown",
   "id": "20df3179",
   "metadata": {},
   "source": [
    "python dictionary 的實體方法有哪一些?"
   ]
  },
  {
   "cell_type": "markdown",
   "id": "d034ffed",
   "metadata": {},
   "source": [
    "在 Python 中，dict（字典）物件具有多個實體方法（instance methods），也就是你可以對字典物件直接呼叫的方法。以下是常用的 dict 方法：\n",
    "\n",
    "✅ 常用的 Python dict 實體方法一覽："
   ]
  },
  {
   "cell_type": "markdown",
   "id": "be5e2d47",
   "metadata": {},
   "source": [
    "| 方法                                | 說明                                                                 |\n",
    "| --------------------------------- | ------------------------------------------------------------------ |\n",
    "| `dict.clear()`                    | 移除字典中的所有項目。                                                        |\n",
    "| `dict.copy()`                     | 傳回字典的**淺拷貝（shallow copy）**。                                        |\n",
    "| `dict.fromkeys(seq[, value])`     | 建立新字典，以序列 `seq` 為 key，所有值為 `value`（預設為 `None`）。（屬於類別方法，但也常被當作實體使用） |\n",
    "| `dict.get(key[, default])`        | 傳回指定 key 的值，若 key 不存在，回傳 `default`（預設為 `None`）。                    |\n",
    "| `dict.items()`                    | 傳回一個包含所有 (key, value) 配對的可疊代視圖（view object）。                       |\n",
    "| `dict.keys()`                     | 傳回所有鍵的可疊代視圖。                                                       |\n",
    "| `dict.values()`                   | 傳回所有值的可疊代視圖。                                                       |\n",
    "| `dict.pop(key[, default])`        | 移除指定 key，並回傳其值。若 key 不存在且未提供 `default`，會拋出 `KeyError`。             |\n",
    "| `dict.popitem()`                  | 隨機移除並回傳一個 (key, value) 配對（Python 3.7+ 為「最後一組」）。                    |\n",
    "| `dict.setdefault(key[, default])` | 若 key 存在則回傳其值；否則設為 `default` 並回傳 `default`。                        |\n",
    "| `dict.update([other])`            | 將其他字典或 key-value 對合併到目前的字典中。                                       |\n",
    "| `dict.__contains__(key)`          | 使用 `in` 檢查 key 是否存在，例如 `'a' in my_dict`。                           |\n",
    "| `dict.__len__()`                  | 使用 `len()` 回傳字典的鍵值對數量。                                             |\n",
    "| `dict.__delitem__(key)`           | 使用 `del my_dict[key]` 移除指定鍵值。                                      |\n",
    "| `dict.__setitem__(key, value)`    | 使用 `my_dict[key] = value` 來設定值。                                    |\n",
    "| `dict.__getitem__(key)`           | 使用 `my_dict[key]` 來取得值。                                            |\n"
   ]
  },
  {
   "cell_type": "markdown",
   "id": "e5101284",
   "metadata": {},
   "source": [
    "🔎 範例："
   ]
  },
  {
   "cell_type": "code",
   "execution_count": 1,
   "id": "ce5cedee",
   "metadata": {},
   "outputs": [
    {
     "data": {
      "text/plain": [
       "dict_values([1, 3])"
      ]
     },
     "execution_count": 1,
     "metadata": {},
     "output_type": "execute_result"
    }
   ],
   "source": [
    "d = {'a': 1, 'b': 2}\n",
    "\n",
    "d.get('a')          # 回傳 1\n",
    "d.get('c', 0)       # 回傳 0（因為 'c' 不存在）\n",
    "\n",
    "d.update({'c': 3})  # 合併新項目\n",
    "d.pop('b')          # 移除並回傳 2\n",
    "\n",
    "d.keys()            # dict_keys(['a', 'c'])\n",
    "d.values()          # dict_values([1, 3])\n"
   ]
  },
  {
   "cell_type": "markdown",
   "id": "42f3574b",
   "metadata": {},
   "source": [
    "如果你需要知道每個方法的詳細用途或行為差異，我可以幫你提供示範與深入說明。你需要哪一類用途的字典方法（例如：查詢、修改、合併）嗎？"
   ]
  }
 ],
 "metadata": {
  "kernelspec": {
   "display_name": "venv1",
   "language": "python",
   "name": "python3"
  },
  "language_info": {
   "codemirror_mode": {
    "name": "ipython",
    "version": 3
   },
   "file_extension": ".py",
   "mimetype": "text/x-python",
   "name": "python",
   "nbconvert_exporter": "python",
   "pygments_lexer": "ipython3",
   "version": "3.11.13"
  }
 },
 "nbformat": 4,
 "nbformat_minor": 5
}
