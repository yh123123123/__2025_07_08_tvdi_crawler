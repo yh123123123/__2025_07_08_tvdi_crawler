{
 "cells": [
  {
   "cell_type": "markdown",
   "id": "430465ee",
   "metadata": {},
   "source": [
    "JsonCssExtractionStrategy"
   ]
  },
  {
   "cell_type": "markdown",
   "id": "75931297",
   "metadata": {},
   "source": [
    "https://www.perplexity.ai/search/jsoncssextractionstrategy-3xNh03KCStSxQed8bsIWyw"
   ]
  },
  {
   "cell_type": "markdown",
   "id": "78015f31",
   "metadata": {},
   "source": [
    "JsonCssExtractionStrategy is a data extraction method used in Crawl4AI to scrape structured data from web pages by leveraging CSS selectors. It works by defining a schema that specifies:\n",
    "JsonCssExtractionStrategy 是 Crawl4AI 中使用的資料擷取方法，利用 CSS 選擇器從網頁中抓取結構化資料。它的工作原理是定義一個模式 ，該模式指定：\n",
    "\n",
    "A base CSS selector identifying repeated container elements on the page (e.g., articles, products)\n",
    "識別頁面上重複的容器元素（例如文章、產品） 的基本 CSS 選擇器\n",
    "\n",
    "A list of fields, each with its own CSS selector relative to the base, for extracting specific data points (text, attributes, HTML, etc.)\n",
    "欄位列表，每個欄位都有相對於基礎的 CSS 選擇器，用於提取特定的資料點（文字、屬性、HTML 等）\n",
    "\n",
    "This strategy is especially suited for extracting data from web pages with consistent and predictable HTML structures, such as tables, lists, or card-style layouts. It does not rely on Large Language Models (LLMs), making it faster, cheaper, and more precise for this task.\n",
    "此策略特別適合從具有一致且可預測的 HTML 結構（例如表格、清單或卡片式佈局）的網頁中提取資料。它不依賴大型語言模型 (LLM)，因此可以更快、更經濟、更精確地完成此任務 。   \n",
    "\n",
    "How JsonCssExtractionStrategy Works\n",
    "JsonCssExtractionStrategy 的工作原理\n",
    "You define a schema dict with keys like \"baseSelector\" and \"fields\" where each field contains \"name\", \"selector\", and \"type\" (e.g., \"text\", \"attribute\").\n",
    "您使用諸如 \"baseSelector\" 和 \"fields\" 之類的鍵定義一個模式字典，其中每個字段包含 \"name\" ， \"selector\" 和 \"type\" （例如， \"text\" ， \"attribute\" ）。\n",
    "\n",
    "The extractor applies the base selector to find all repeated elements and extracts fields from each.\n",
    "提取器應用基本選擇器來尋找所有重複元素並從每個元素中提取欄位。\n",
    "\n",
    "It returns the extracted data as structured JSON (an array of objects), where each object corresponds to one matched element.\n",
    "它將提取的資料作為結構化 JSON（物件數組）返回，其中每個物件對應一個匹配的元素。\n",
    "\n",
    "Advantages  優勢\n",
    "Fast and efficient because it processes HTML directly with CSS selectors without needing external LLM inference.\n",
    "快速而高效， 因為它直接使用 CSS 選擇器處理 HTML，而無需外部 LLM 推理。\n",
    "\n",
    "Precise and repeatable since extraction strictly follows specified selectors, avoiding variability or hallucinations common in LLM outputs.\n",
    "由於提取嚴格遵循指定的選擇器，因此精確且可重複 ，避免了 LLM 輸出中常見的變化或幻覺。\n",
    "\n",
    "Scalable for crawling thousands of pages.\n",
    "可擴充以抓取數千個頁面。\n",
    "\n",
    "Supports extraction of nested or complex structures through advanced schema design.\n",
    "支援透過高階架構設計提取嵌套或複雜的結構   。\n",
    "\n",
    "Example (Python with Crawl4AI)\n",
    "範例（Python 與 Crawl4AI）\n",
    "A schema might look like this to extract news articles with title, summary, and link:\n",
    "提取帶有標題、摘要和連結的新聞文章的模式可能如下所示：\n",
    "\n",
    "python\n",
    "schema = {\n",
    "    \"name\": \"News Articles\",\n",
    "    \"baseSelector\": \"article.tease-card\",\n",
    "    \"fields\": [\n",
    "        {\"name\": \"title\", \"selector\": \"h2\", \"type\": \"text\"},\n",
    "        {\"name\": \"summary\", \"selector\": \"div.tease-card__info\", \"type\": \"text\"},\n",
    "        {\"name\": \"link\", \"selector\": \"a\", \"type\": \"attribute\", \"attribute\": \"href\"}\n",
    "    ],\n",
    "}\n",
    "This schema is passed to JsonCssExtractionStrategy which when run with AsyncWebCrawler returns structured extracted data.\n",
    "此模式傳遞給 JsonCssExtractionStrategy ，當與 AsyncWebCrawler 一起運作時，它會傳回結構化擷取的資料  。\n",
    "\n",
    "Known Issues and Limitations\n",
    "已知問題和限制\n",
    "Earlier versions had a bug where JsonCssExtractionStrategy only extracted the first matching element, missing out on multiple repeated elements. This was due to an implementation detail in the _get_elements() method, limiting list extraction. Fixes or workarounds may be needed to handle lists correctly.\n",
    "早期版本存在一個錯誤，即 JsonCssExtractionStrategy 僅提取第一個匹配的元素 ，而遺漏了多個重複的元素。這是由於 _get_elements() 方法中的實作細節限制了列表提取。可能需要修復或解決方法才能正確處理清單  。\n",
    "\n",
    "Some users reported issues with strategy returning empty results if selectors or configurations are off, so careful schema testing is advised.\n",
    "一些用戶報告了當選擇器或配置關閉時策略返回空結果的問題，因此建議仔細進行架構測試  。\n",
    "\n",
    "Advanced Usage  進階用法\n",
    "The strategy supports complex nested extraction, allowing you to define hierarchical schemas for nested lists and objects in the HTML DOM. This makes it feasible to scrape complicated pages such as nested product categories, reviews, and related items.\n",
    "此策略支援複雜的嵌套提取，可讓您為 HTML DOM 中的嵌套清單和物件定義分層架構。這使得抓取複雜的頁面（例如嵌套的產品類別、評論和相關商品）變得可能  。\n",
    "\n",
    "In essence, JsonCssExtractionStrategy is a powerful, schema-driven CSS selector based extraction approach embedded within Crawl4AI for structured and fast web data scraping without dependency on language models.\n",
    "本質上， JsonCssExtractionStrategy 是一種功能強大的、基於模式驅動的 CSS 選擇器的提取方法，嵌入在 Crawl4AI 中，用於結構化和快速的網路資料抓取，而無需依賴語言模型 "
   ]
  }
 ],
 "metadata": {
  "language_info": {
   "name": "python"
  }
 },
 "nbformat": 4,
 "nbformat_minor": 5
}
