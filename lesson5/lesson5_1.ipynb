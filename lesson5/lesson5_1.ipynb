{
 "cells": [
  {
   "cell_type": "code",
   "execution_count": null,
   "id": "55398a5e",
   "metadata": {},
   "outputs": [],
   "source": [
    "from playwright.async_api import async_playwright\n",
    "import asyncio\n",
    "import nest_asyncio\n",
    "nest_asyncio.apply()  # 允許在 Jupyter Notebook 中使用 asyncio\n",
    "\n",
    "async def main():\n",
    "    async with async_playwright() as p:\n",
    "        #browser = await p.chromium.launch(headless=False)\n",
    "        browser = await p.firefox.launch(headless=False,slow_mo=1000)  # firefox\n",
    "        page = await browser.new_page()\n",
    "        await page.goto('https://example.com')\n",
    "        await page.wait_for_selector('p') #等待元素載入\n",
    "        content = await page.inner_text('p')\n",
    "        print(content)\n",
    "        await browser.close()\n",
    "    \n",
    "#asyncio.run(main())\n",
    "await main()"
   ]
  }
 ],
 "metadata": {
  "language_info": {
   "name": "python"
  }
 },
 "nbformat": 4,
 "nbformat_minor": 5
}
