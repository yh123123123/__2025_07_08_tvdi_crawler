{
 "cells": [
  {
   "cell_type": "code",
   "execution_count": 1,
   "id": "629a61b9",
   "metadata": {},
   "outputs": [
    {
     "name": "stdout",
     "output_type": "stream",
     "text": [
      "開始任務 1\n",
      "開始任務 2\n",
      "任務 1 完成\n",
      "任務 2 完成\n",
      "總耗時: 2.02 秒\n"
     ]
    }
   ],
   "source": [
    "#範例 4.2：模擬非同步網路請求\n",
    "import asyncio\n",
    "import time\n",
    "import nest_asyncio\n",
    "nest_asyncio.apply()  # 允許在 Jupyter Notebook 中使用 asyncio\n",
    "\n",
    "async def task(id, delay):\n",
    "    print(f\"開始任務 {id}\")\n",
    "    await asyncio.sleep(delay)\n",
    "    print(f\"任務 {id} 完成\")\n",
    "\n",
    "\n",
    "\n",
    "async def main():\n",
    "    start = time.time()\n",
    "    tasks = [task(1,1), task(2, 2)]\n",
    "    await asyncio.gather(*tasks)\n",
    "    print(f\"總耗時: {time.time() - start:.2f} 秒\")\n",
    "\n",
    "asyncio.run(main())"
   ]
  },
  {
   "cell_type": "code",
   "execution_count": 2,
   "id": "2a71759f",
   "metadata": {},
   "outputs": [
    {
     "name": "stdout",
     "output_type": "stream",
     "text": [
      "0.7.0\n"
     ]
    }
   ],
   "source": [
    "import crawl4ai\n",
    "print(crawl4ai.__version__.__version__)"
   ]
  }
 ],
 "metadata": {
  "kernelspec": {
   "display_name": "venv1",
   "language": "python",
   "name": "python3"
  },
  "language_info": {
   "codemirror_mode": {
    "name": "ipython",
    "version": 3
   },
   "file_extension": ".py",
   "mimetype": "text/x-python",
   "name": "python",
   "nbconvert_exporter": "python",
   "pygments_lexer": "ipython3",
   "version": "3.11.13"
  }
 },
 "nbformat": 4,
 "nbformat_minor": 5
}
